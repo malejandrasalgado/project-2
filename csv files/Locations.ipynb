{
 "cells": [
  {
   "cell_type": "code",
   "execution_count": 20,
   "metadata": {},
   "outputs": [
    {
     "name": "stdout",
     "output_type": "stream",
     "text": [
      "                                 Sensor   latitude   longitude\n",
      "0            Bourke Street Mall (North) -37.813410  144.965225\n",
      "1            Bourke Street Mall (South) -37.813723  144.965150\n",
      "2                     Melbourne Central -37.810185  144.962801\n",
      "3                      Town Hall (West) -37.814953  144.966194\n",
      "4                        Princes Bridge -37.818819  144.967994\n",
      "..                                  ...        ...         ...\n",
      "71       Bourke St - Spencer St (South) -37.816856  144.954069\n",
      "72       Spring St - Flinders St (West) -37.815210  144.974777\n",
      "73             Macaulay Rd - Bellair St -37.794268  144.930493\n",
      "74  Harbour Esplanade - Pedestrian Path -37.814285  144.944280\n",
      "75        Harbour Esplanade - Bike Path -37.814883  144.944532\n",
      "\n",
      "[76 rows x 3 columns]\n"
     ]
    }
   ],
   "source": [
    "import numpy as np\n",
    "import pandas as pd\n",
    "import matplotlib\n",
    "import matplotlib.pyplot as plt\n",
    "\n",
    "# # reading csv file \n",
    "\n",
    "location=  pd.read_csv('C:/Users/aleja/OneDrive/Bootcamp/projects/project-2/csv files/locations.csv')\n",
    "print(location)\n"
   ]
  },
  {
   "cell_type": "code",
   "execution_count": 31,
   "metadata": {},
   "outputs": [],
   "source": [
    "\n",
    "\n",
    "def df_to_geojson(df, properties, lat='latitude', lon='longitude'):\n",
    "    # create a new python dict to contain our geojson data, using geojson format\n",
    "    geojson = {'type':'FeatureCollection', 'features':[]}\n",
    "\n",
    "    # loop through each row in the dataframe and convert each row to geojson format\n",
    "    for _, row in df.iterrows():\n",
    "        # create a feature template to fill in\n",
    "        feature = {'type':'location',\n",
    "                   'properties':{},\n",
    "                   'geometry':{'type':'Point',\n",
    "                               'coordinates':[]}}\n",
    "\n",
    "        # fill in the coordinates\n",
    "        feature['geometry']['coordinates'] = [row[lat],row[lon]]\n",
    "\n",
    "        # for each column, get the value and add it as a new feature property\n",
    "        for prop in properties:\n",
    "            feature['properties'][prop] = row[prop]\n",
    "        \n",
    "        # add this feature (aka, converted dataframe row) to the list of features inside our dict\n",
    "        geojson['features'].append(feature)\n",
    "    \n",
    "    return geojson\n",
    "\n",
    "cols = ['Sensor']\n",
    "geojson = df_to_geojson(location, cols)"
   ]
  },
  {
   "cell_type": "code",
   "execution_count": 29,
   "metadata": {},
   "outputs": [
    {
     "data": {
      "text/plain": [
       "{'type': 'FeatureCollection',\n",
       " 'features': [{'type': 'Feature',\n",
       "   'properties': {'Sensor': 'Bourke Street Mall (North)'},\n",
       "   'geometry': {'type': 'Point',\n",
       "    'coordinates': [-37.81340998, 144.96522530000001]}},\n",
       "  {'type': 'Feature',\n",
       "   'properties': {'Sensor': 'Bourke Street Mall (South)'},\n",
       "   'geometry': {'type': 'Point', 'coordinates': [-37.81372266, 144.96515]}},\n",
       "  {'type': 'Feature',\n",
       "   'properties': {'Sensor': 'Melbourne Central'},\n",
       "   'geometry': {'type': 'Point', 'coordinates': [-37.81018489, 144.9628006]}},\n",
       "  {'type': 'Feature',\n",
       "   'properties': {'Sensor': 'Town Hall (West)'},\n",
       "   'geometry': {'type': 'Point', 'coordinates': [-37.8149526, 144.9661936]}},\n",
       "  {'type': 'Feature',\n",
       "   'properties': {'Sensor': 'Princes Bridge'},\n",
       "   'geometry': {'type': 'Point',\n",
       "    'coordinates': [-37.81881889, 144.96799430000002]}},\n",
       "  {'type': 'Feature',\n",
       "   'properties': {'Sensor': 'Flinders Street Station Underpass'},\n",
       "   'geometry': {'type': 'Point', 'coordinates': [-37.81905048, 144.966093]}},\n",
       "  {'type': 'Feature',\n",
       "   'properties': {'Sensor': 'Birrarung Marr'},\n",
       "   'geometry': {'type': 'Point',\n",
       "    'coordinates': [-37.81891818, 144.97380680000003]}},\n",
       "  {'type': 'Feature',\n",
       "   'properties': {'Sensor': 'Webb Bridge'},\n",
       "   'geometry': {'type': 'Point',\n",
       "    'coordinates': [-37.82327804, 144.94731130000002]}},\n",
       "  {'type': 'Feature',\n",
       "   'properties': {'Sensor': 'Southern Cross Station'},\n",
       "   'geometry': {'type': 'Point', 'coordinates': [-37.81992825, 144.9509522]}},\n",
       "  {'type': 'Feature',\n",
       "   'properties': {'Sensor': 'Victoria Point'},\n",
       "   'geometry': {'type': 'Point',\n",
       "    'coordinates': [-37.818836600000004, 144.9470711]}},\n",
       "  {'type': 'Feature',\n",
       "   'properties': {'Sensor': 'Waterfront City'},\n",
       "   'geometry': {'type': 'Point',\n",
       "    'coordinates': [-37.81569887, 144.93995690000003]}},\n",
       "  {'type': 'Feature',\n",
       "   'properties': {'Sensor': 'New Quay'},\n",
       "   'geometry': {'type': 'Point', 'coordinates': [-37.81456127, 144.9430387]}},\n",
       "  {'type': 'Feature',\n",
       "   'properties': {'Sensor': 'Flagstaff Station'},\n",
       "   'geometry': {'type': 'Point', 'coordinates': [-37.81233505, 144.956559]}},\n",
       "  {'type': 'Feature',\n",
       "   'properties': {'Sensor': 'Sandridge Bridge'},\n",
       "   'geometry': {'type': 'Point',\n",
       "    'coordinates': [-37.81995709, 144.96305149999998]}},\n",
       "  {'type': 'Feature',\n",
       "   'properties': {'Sensor': 'State Library'},\n",
       "   'geometry': {'type': 'Point', 'coordinates': [-37.81059897, 144.9643227]}},\n",
       "  {'type': 'Feature',\n",
       "   'properties': {'Sensor': 'Collins St (North)'},\n",
       "   'geometry': {'type': 'Point',\n",
       "    'coordinates': [-37.81576810000001, 144.9655409]}},\n",
       "  {'type': 'Feature',\n",
       "   'properties': {'Sensor': 'Collins Place (South)'},\n",
       "   'geometry': {'type': 'Point', 'coordinates': [-37.81362871, 144.9731826]}},\n",
       "  {'type': 'Feature',\n",
       "   'properties': {'Sensor': 'Collins Place (North)'},\n",
       "   'geometry': {'type': 'Point',\n",
       "    'coordinates': [-37.81360099, 144.97279980000002]}},\n",
       "  {'type': 'Feature',\n",
       "   'properties': {'Sensor': 'Chinatown-Swanston St (North)'},\n",
       "   'geometry': {'type': 'Point', 'coordinates': [-37.81239626, 144.9656361]}},\n",
       "  {'type': 'Feature',\n",
       "   'properties': {'Sensor': 'Chinatown-Lt Bourke St (South)'},\n",
       "   'geometry': {'type': 'Point', 'coordinates': [-37.81165232, 144.9682634]}},\n",
       "  {'type': 'Feature',\n",
       "   'properties': {'Sensor': 'Bourke St-Russell St (West)'},\n",
       "   'geometry': {'type': 'Point', 'coordinates': [-37.81246256, 144.9678603]}},\n",
       "  {'type': 'Feature',\n",
       "   'properties': {'Sensor': 'Flinders St-Elizabeth St (East)'},\n",
       "   'geometry': {'type': 'Point', 'coordinates': [-37.81806306, 144.9650126]}},\n",
       "  {'type': 'Feature',\n",
       "   'properties': {'Sensor': 'Spencer St-Collins St (South)'},\n",
       "   'geometry': {'type': 'Point', 'coordinates': [-37.8191407, 144.9543435]}},\n",
       "  {'type': 'Feature',\n",
       "   'properties': {'Sensor': 'Spencer St-Collins St (North)'},\n",
       "   'geometry': {'type': 'Point', 'coordinates': [-37.81896291, 144.9542069]}},\n",
       "  {'type': 'Feature',\n",
       "   'properties': {'Sensor': 'Melbourne Convention Exhibition Centre'},\n",
       "   'geometry': {'type': 'Point', 'coordinates': [-37.82372288, 144.9561615]}},\n",
       "  {'type': 'Feature',\n",
       "   'properties': {'Sensor': 'QV Market-Elizabeth St (West)'},\n",
       "   'geometry': {'type': 'Point', 'coordinates': [-37.80847269, 144.9604394]}},\n",
       "  {'type': 'Feature',\n",
       "   'properties': {'Sensor': 'QV Market-Peel St'},\n",
       "   'geometry': {'type': 'Point', 'coordinates': [-37.8059662, 144.9564073]}},\n",
       "  {'type': 'Feature',\n",
       "   'properties': {'Sensor': 'The Arts Centre'},\n",
       "   'geometry': {'type': 'Point', 'coordinates': [-37.82006672, 144.9683251]}},\n",
       "  {'type': 'Feature',\n",
       "   'properties': {'Sensor': 'St Kilda Rd-Alexandra Gardens'},\n",
       "   'geometry': {'type': 'Point',\n",
       "    'coordinates': [-37.8197438, 144.96870980000003]}},\n",
       "  {'type': 'Feature',\n",
       "   'properties': {'Sensor': 'Lonsdale St (South)'},\n",
       "   'geometry': {'type': 'Point', 'coordinates': [-37.81111787, 144.9664575]}},\n",
       "  {'type': 'Feature',\n",
       "   'properties': {'Sensor': 'Lygon St (West)'},\n",
       "   'geometry': {'type': 'Point',\n",
       "    'coordinates': [-37.80161831, 144.96670769999997]}},\n",
       "  {'type': 'Feature',\n",
       "   'properties': {'Sensor': 'City Square'},\n",
       "   'geometry': {'type': 'Point', 'coordinates': [-37.8158781, 144.966749]}},\n",
       "  {'type': 'Feature',\n",
       "   'properties': {'Sensor': 'Flinders St-Spring St (West)'},\n",
       "   'geometry': {'type': 'Point', 'coordinates': [-37.81483963, 144.9745721]}},\n",
       "  {'type': 'Feature',\n",
       "   'properties': {'Sensor': 'Flinders St-Spark La'},\n",
       "   'geometry': {'type': 'Point', 'coordinates': [-37.81537761, 144.9741766]}},\n",
       "  {'type': 'Feature',\n",
       "   'properties': {'Sensor': 'Southbank'},\n",
       "   'geometry': {'type': 'Point', 'coordinates': [-37.82020767, 144.9650458]}},\n",
       "  {'type': 'Feature',\n",
       "   'properties': {'Sensor': 'Queen St (West)'},\n",
       "   'geometry': {'type': 'Point', 'coordinates': [-37.81658884, 144.9613324]}},\n",
       "  {'type': 'Feature',\n",
       "   'properties': {'Sensor': 'Lygon St (East)'},\n",
       "   'geometry': {'type': 'Point', 'coordinates': [-37.80310464, 144.9665977]}},\n",
       "  {'type': 'Feature',\n",
       "   'properties': {'Sensor': 'Alfred Place'},\n",
       "   'geometry': {'type': 'Point',\n",
       "    'coordinates': [-37.81383901, 144.96997140000002]}},\n",
       "  {'type': 'Feature',\n",
       "   'properties': {'Sensor': 'Lonsdale St-Spring St (West)'},\n",
       "   'geometry': {'type': 'Point', 'coordinates': [-37.81005626, 144.9723458]}},\n",
       "  {'type': 'Feature',\n",
       "   'properties': {'Sensor': 'Grattan St-Swanston St (West)'},\n",
       "   'geometry': {'type': 'Point', 'coordinates': [-37.80031193, 144.963879]}},\n",
       "  {'type': 'Feature',\n",
       "   'properties': {'Sensor': 'Monash Rd-Swanston St (West)'},\n",
       "   'geometry': {'type': 'Point', 'coordinates': [-37.79851002, 144.9642025]}},\n",
       "  {'type': 'Feature',\n",
       "   'properties': {'Sensor': 'Tin Alley-Swanston St (West)'},\n",
       "   'geometry': {'type': 'Point',\n",
       "    'coordinates': [-37.79682089, 144.96450890000003]}},\n",
       "  {'type': 'Feature',\n",
       "   'properties': {'Sensor': 'Little Collins St-Swanston St (East)'},\n",
       "   'geometry': {'type': 'Point', 'coordinates': [-37.81442768, 144.9661167]}},\n",
       "  {'type': 'Feature',\n",
       "   'properties': {'Sensor': 'Flinders La-Swanston St (West)'},\n",
       "   'geometry': {'type': 'Point', 'coordinates': [-37.81634098, 144.9669241]}},\n",
       "  {'type': 'Feature',\n",
       "   'properties': {'Sensor': 'Pelham St (South)'},\n",
       "   'geometry': {'type': 'Point', 'coordinates': [-37.80230453, 144.9616265]}},\n",
       "  {'type': 'Feature',\n",
       "   'properties': {'Sensor': 'Melbourne Central-Elizabeth St (East)'},\n",
       "   'geometry': {'type': 'Point', 'coordinates': [-37.81142356, 144.9619502]}},\n",
       "  {'type': 'Feature',\n",
       "   'properties': {'Sensor': 'QVM-Queen St (East)'},\n",
       "   'geometry': {'type': 'Point', 'coordinates': [-37.80620279, 144.9585479]}},\n",
       "  {'type': 'Feature',\n",
       "   'properties': {'Sensor': 'QVM-Therry St (South)'},\n",
       "   'geometry': {'type': 'Point', 'coordinates': [-37.80719447, 144.9594763]}},\n",
       "  {'type': 'Feature',\n",
       "   'properties': {'Sensor': 'Faraday St-Lygon St (West)'},\n",
       "   'geometry': {'type': 'Point', 'coordinates': [-37.79802328, 144.9672885]}},\n",
       "  {'type': 'Feature',\n",
       "   'properties': {'Sensor': 'QVM-Franklin St (North)'},\n",
       "   'geometry': {'type': 'Point',\n",
       "    'coordinates': [-37.80851545, 144.95890659999998]}},\n",
       "  {'type': 'Feature',\n",
       "   'properties': {'Sensor': 'Elizabeth St-Lonsdale St (South)'},\n",
       "   'geometry': {'type': 'Point', 'coordinates': [-37.81243529, 144.9618872]}},\n",
       "  {'type': 'Feature',\n",
       "   'properties': {'Sensor': 'Lincoln-Swanston (W)'},\n",
       "   'geometry': {'type': 'Point',\n",
       "    'coordinates': [-37.80407319, 144.96326100000002]}},\n",
       "  {'type': 'Feature',\n",
       "   'properties': {'Sensor': 'Elizabeth St-La Trobe St (East)'},\n",
       "   'geometry': {'type': 'Point',\n",
       "    'coordinates': [-37.81018903, 144.96138059999998]}},\n",
       "  {'type': 'Feature',\n",
       "   'properties': {'Sensor': 'Lonsdale St - Elizabeth St (North)'},\n",
       "   'geometry': {'type': 'Point',\n",
       "    'coordinates': [-37.81241939, 144.96148430000002]}},\n",
       "  {'type': 'Feature',\n",
       "   'properties': {'Sensor': 'Bourke St Bridge'},\n",
       "   'geometry': {'type': 'Point', 'coordinates': [-37.81769633, 144.9502168]}},\n",
       "  {'type': 'Feature',\n",
       "   'properties': {'Sensor': 'Bourke St - Spencer St (North)'},\n",
       "   'geometry': {'type': 'Point',\n",
       "    'coordinates': [-37.81697785, 144.95348080000002]}},\n",
       "  {'type': 'Feature',\n",
       "   'properties': {'Sensor': 'RMIT Bld 80 - 445 Swanston Street'},\n",
       "   'geometry': {'type': 'Point',\n",
       "    'coordinates': [-37.808025799999996, 144.9629546]}},\n",
       "  {'type': 'Feature',\n",
       "   'properties': {'Sensor': 'Flinders La-Swanston St (West) Temporary'},\n",
       "   'geometry': {'type': 'Point',\n",
       "    'coordinates': [-37.81653111, 144.96694530000002]}},\n",
       "  {'type': 'Feature',\n",
       "   'properties': {'Sensor': 'RMIT Building 14'},\n",
       "   'geometry': {'type': 'Point', 'coordinates': [-37.80737317, 144.9632461]}},\n",
       "  {'type': 'Feature',\n",
       "   'properties': {'Sensor': '380 Elizabeth St'},\n",
       "   'geometry': {'type': 'Point', 'coordinates': [-37.80961321, 144.9615709]}},\n",
       "  {'type': 'Feature',\n",
       "   'properties': {'Sensor': 'La Trobe St (North)'},\n",
       "   'geometry': {'type': 'Point', 'coordinates': [-37.81011379, 144.9620237]}},\n",
       "  {'type': 'Feature',\n",
       "   'properties': {'Sensor': '231 Bourke St'},\n",
       "   'geometry': {'type': 'Point', 'coordinates': [-37.81333975, 144.9668472]}},\n",
       "  {'type': 'Feature',\n",
       "   'properties': {'Sensor': 'Royal Pde - Grattan St'},\n",
       "   'geometry': {'type': 'Point', 'coordinates': [-37.79962918, 144.9573212]}},\n",
       "  {'type': 'Feature',\n",
       "   'properties': {'Sensor': 'Swanston St - City Square'},\n",
       "   'geometry': {'type': 'Point',\n",
       "    'coordinates': [-37.81551888, 144.96659119999998]}},\n",
       "  {'type': 'Feature',\n",
       "   'properties': {'Sensor': 'State Library - New'},\n",
       "   'geometry': {'type': 'Point', 'coordinates': [-37.81058889, 144.9643339]}},\n",
       "  {'type': 'Feature',\n",
       "   'properties': {'Sensor': 'Flinders Ln - Degraves St (South)'},\n",
       "   'geometry': {'type': 'Point', 'coordinates': [-37.81690024, 144.9655893]}},\n",
       "  {'type': 'Feature',\n",
       "   'properties': {'Sensor': 'Flinders Ln - Degraves St (North)'},\n",
       "   'geometry': {'type': 'Point',\n",
       "    'coordinates': [-37.8168425, 144.96570590000002]}},\n",
       "  {'type': 'Feature',\n",
       "   'properties': {'Sensor': 'Flinders Ln - Degraves St (Crossing)'},\n",
       "   'geometry': {'type': 'Point', 'coordinates': [-37.81685097, 144.965651]}},\n",
       "  {'type': 'Feature',\n",
       "   'properties': {'Sensor': 'Errol Street (East)'},\n",
       "   'geometry': {'type': 'Point',\n",
       "    'coordinates': [-37.80442398, 144.94936769999998]}},\n",
       "  {'type': 'Feature',\n",
       "   'properties': {'Sensor': 'Westwood Place'},\n",
       "   'geometry': {'type': 'Point', 'coordinates': [-37.81232775, 144.9713299]}},\n",
       "  {'type': 'Feature',\n",
       "   'properties': {'Sensor': 'Flinders St - ACMI'},\n",
       "   'geometry': {'type': 'Point',\n",
       "    'coordinates': [-37.81748768, 144.96908190000002]}},\n",
       "  {'type': 'Feature',\n",
       "   'properties': {'Sensor': 'Bourke St - Spencer St (South)'},\n",
       "   'geometry': {'type': 'Point',\n",
       "    'coordinates': [-37.81685564, 144.95406930000001]}},\n",
       "  {'type': 'Feature',\n",
       "   'properties': {'Sensor': 'Spring St - Flinders St (West)'},\n",
       "   'geometry': {'type': 'Point',\n",
       "    'coordinates': [-37.8152105, 144.97477719999998]}},\n",
       "  {'type': 'Feature',\n",
       "   'properties': {'Sensor': 'Macaulay Rd - Bellair St'},\n",
       "   'geometry': {'type': 'Point', 'coordinates': [-37.79426811, 144.9304927]}},\n",
       "  {'type': 'Feature',\n",
       "   'properties': {'Sensor': 'Harbour Esplanade - Pedestrian Path'},\n",
       "   'geometry': {'type': 'Point', 'coordinates': [-37.81428483, 144.9442805]}},\n",
       "  {'type': 'Feature',\n",
       "   'properties': {'Sensor': 'Harbour Esplanade - Bike Path'},\n",
       "   'geometry': {'type': 'Point', 'coordinates': [-37.81488338, 144.944532]}}]}"
      ]
     },
     "execution_count": 29,
     "metadata": {},
     "output_type": "execute_result"
    }
   ],
   "source": [
    "geojson"
   ]
  },
  {
   "cell_type": "code",
   "execution_count": 30,
   "metadata": {},
   "outputs": [
    {
     "data": {
      "C:/Users/aleja/OneDrive/Bootcamp/projects/project-2/csv files": {
       "features": [
        {
         "geometry": {
          "coordinates": [
           -37.81340998,
           144.96522530000001
          ],
          "type": "Point"
         },
         "properties": {
          "Sensor": "Bourke Street Mall (North)"
         },
         "type": "Feature"
        },
        {
         "geometry": {
          "coordinates": [
           -37.81372266,
           144.96515
          ],
          "type": "Point"
         },
         "properties": {
          "Sensor": "Bourke Street Mall (South)"
         },
         "type": "Feature"
        },
        {
         "geometry": {
          "coordinates": [
           -37.81018489,
           144.9628006
          ],
          "type": "Point"
         },
         "properties": {
          "Sensor": "Melbourne Central"
         },
         "type": "Feature"
        },
        {
         "geometry": {
          "coordinates": [
           -37.8149526,
           144.9661936
          ],
          "type": "Point"
         },
         "properties": {
          "Sensor": "Town Hall (West)"
         },
         "type": "Feature"
        },
        {
         "geometry": {
          "coordinates": [
           -37.81881889,
           144.96799430000002
          ],
          "type": "Point"
         },
         "properties": {
          "Sensor": "Princes Bridge"
         },
         "type": "Feature"
        },
        {
         "geometry": {
          "coordinates": [
           -37.81905048,
           144.966093
          ],
          "type": "Point"
         },
         "properties": {
          "Sensor": "Flinders Street Station Underpass"
         },
         "type": "Feature"
        },
        {
         "geometry": {
          "coordinates": [
           -37.81891818,
           144.97380680000003
          ],
          "type": "Point"
         },
         "properties": {
          "Sensor": "Birrarung Marr"
         },
         "type": "Feature"
        },
        {
         "geometry": {
          "coordinates": [
           -37.82327804,
           144.94731130000002
          ],
          "type": "Point"
         },
         "properties": {
          "Sensor": "Webb Bridge"
         },
         "type": "Feature"
        },
        {
         "geometry": {
          "coordinates": [
           -37.81992825,
           144.9509522
          ],
          "type": "Point"
         },
         "properties": {
          "Sensor": "Southern Cross Station"
         },
         "type": "Feature"
        },
        {
         "geometry": {
          "coordinates": [
           -37.818836600000004,
           144.9470711
          ],
          "type": "Point"
         },
         "properties": {
          "Sensor": "Victoria Point"
         },
         "type": "Feature"
        },
        {
         "geometry": {
          "coordinates": [
           -37.81569887,
           144.93995690000003
          ],
          "type": "Point"
         },
         "properties": {
          "Sensor": "Waterfront City"
         },
         "type": "Feature"
        },
        {
         "geometry": {
          "coordinates": [
           -37.81456127,
           144.9430387
          ],
          "type": "Point"
         },
         "properties": {
          "Sensor": "New Quay"
         },
         "type": "Feature"
        },
        {
         "geometry": {
          "coordinates": [
           -37.81233505,
           144.956559
          ],
          "type": "Point"
         },
         "properties": {
          "Sensor": "Flagstaff Station"
         },
         "type": "Feature"
        },
        {
         "geometry": {
          "coordinates": [
           -37.81995709,
           144.96305149999998
          ],
          "type": "Point"
         },
         "properties": {
          "Sensor": "Sandridge Bridge"
         },
         "type": "Feature"
        },
        {
         "geometry": {
          "coordinates": [
           -37.81059897,
           144.9643227
          ],
          "type": "Point"
         },
         "properties": {
          "Sensor": "State Library"
         },
         "type": "Feature"
        },
        {
         "geometry": {
          "coordinates": [
           -37.81576810000001,
           144.9655409
          ],
          "type": "Point"
         },
         "properties": {
          "Sensor": "Collins St (North)"
         },
         "type": "Feature"
        },
        {
         "geometry": {
          "coordinates": [
           -37.81362871,
           144.9731826
          ],
          "type": "Point"
         },
         "properties": {
          "Sensor": "Collins Place (South)"
         },
         "type": "Feature"
        },
        {
         "geometry": {
          "coordinates": [
           -37.81360099,
           144.97279980000002
          ],
          "type": "Point"
         },
         "properties": {
          "Sensor": "Collins Place (North)"
         },
         "type": "Feature"
        },
        {
         "geometry": {
          "coordinates": [
           -37.81239626,
           144.9656361
          ],
          "type": "Point"
         },
         "properties": {
          "Sensor": "Chinatown-Swanston St (North)"
         },
         "type": "Feature"
        },
        {
         "geometry": {
          "coordinates": [
           -37.81165232,
           144.9682634
          ],
          "type": "Point"
         },
         "properties": {
          "Sensor": "Chinatown-Lt Bourke St (South)"
         },
         "type": "Feature"
        },
        {
         "geometry": {
          "coordinates": [
           -37.81246256,
           144.9678603
          ],
          "type": "Point"
         },
         "properties": {
          "Sensor": "Bourke St-Russell St (West)"
         },
         "type": "Feature"
        },
        {
         "geometry": {
          "coordinates": [
           -37.81806306,
           144.9650126
          ],
          "type": "Point"
         },
         "properties": {
          "Sensor": "Flinders St-Elizabeth St (East)"
         },
         "type": "Feature"
        },
        {
         "geometry": {
          "coordinates": [
           -37.8191407,
           144.9543435
          ],
          "type": "Point"
         },
         "properties": {
          "Sensor": "Spencer St-Collins St (South)"
         },
         "type": "Feature"
        },
        {
         "geometry": {
          "coordinates": [
           -37.81896291,
           144.9542069
          ],
          "type": "Point"
         },
         "properties": {
          "Sensor": "Spencer St-Collins St (North)"
         },
         "type": "Feature"
        },
        {
         "geometry": {
          "coordinates": [
           -37.82372288,
           144.9561615
          ],
          "type": "Point"
         },
         "properties": {
          "Sensor": "Melbourne Convention Exhibition Centre"
         },
         "type": "Feature"
        },
        {
         "geometry": {
          "coordinates": [
           -37.80847269,
           144.9604394
          ],
          "type": "Point"
         },
         "properties": {
          "Sensor": "QV Market-Elizabeth St (West)"
         },
         "type": "Feature"
        },
        {
         "geometry": {
          "coordinates": [
           -37.8059662,
           144.9564073
          ],
          "type": "Point"
         },
         "properties": {
          "Sensor": "QV Market-Peel St"
         },
         "type": "Feature"
        },
        {
         "geometry": {
          "coordinates": [
           -37.82006672,
           144.9683251
          ],
          "type": "Point"
         },
         "properties": {
          "Sensor": "The Arts Centre"
         },
         "type": "Feature"
        },
        {
         "geometry": {
          "coordinates": [
           -37.8197438,
           144.96870980000003
          ],
          "type": "Point"
         },
         "properties": {
          "Sensor": "St Kilda Rd-Alexandra Gardens"
         },
         "type": "Feature"
        },
        {
         "geometry": {
          "coordinates": [
           -37.81111787,
           144.9664575
          ],
          "type": "Point"
         },
         "properties": {
          "Sensor": "Lonsdale St (South)"
         },
         "type": "Feature"
        },
        {
         "geometry": {
          "coordinates": [
           -37.80161831,
           144.96670769999997
          ],
          "type": "Point"
         },
         "properties": {
          "Sensor": "Lygon St (West)"
         },
         "type": "Feature"
        },
        {
         "geometry": {
          "coordinates": [
           -37.8158781,
           144.966749
          ],
          "type": "Point"
         },
         "properties": {
          "Sensor": "City Square"
         },
         "type": "Feature"
        },
        {
         "geometry": {
          "coordinates": [
           -37.81483963,
           144.9745721
          ],
          "type": "Point"
         },
         "properties": {
          "Sensor": "Flinders St-Spring St (West)"
         },
         "type": "Feature"
        },
        {
         "geometry": {
          "coordinates": [
           -37.81537761,
           144.9741766
          ],
          "type": "Point"
         },
         "properties": {
          "Sensor": "Flinders St-Spark La"
         },
         "type": "Feature"
        },
        {
         "geometry": {
          "coordinates": [
           -37.82020767,
           144.9650458
          ],
          "type": "Point"
         },
         "properties": {
          "Sensor": "Southbank"
         },
         "type": "Feature"
        },
        {
         "geometry": {
          "coordinates": [
           -37.81658884,
           144.9613324
          ],
          "type": "Point"
         },
         "properties": {
          "Sensor": "Queen St (West)"
         },
         "type": "Feature"
        },
        {
         "geometry": {
          "coordinates": [
           -37.80310464,
           144.9665977
          ],
          "type": "Point"
         },
         "properties": {
          "Sensor": "Lygon St (East)"
         },
         "type": "Feature"
        },
        {
         "geometry": {
          "coordinates": [
           -37.81383901,
           144.96997140000002
          ],
          "type": "Point"
         },
         "properties": {
          "Sensor": "Alfred Place"
         },
         "type": "Feature"
        },
        {
         "geometry": {
          "coordinates": [
           -37.81005626,
           144.9723458
          ],
          "type": "Point"
         },
         "properties": {
          "Sensor": "Lonsdale St-Spring St (West)"
         },
         "type": "Feature"
        },
        {
         "geometry": {
          "coordinates": [
           -37.80031193,
           144.963879
          ],
          "type": "Point"
         },
         "properties": {
          "Sensor": "Grattan St-Swanston St (West)"
         },
         "type": "Feature"
        },
        {
         "geometry": {
          "coordinates": [
           -37.79851002,
           144.9642025
          ],
          "type": "Point"
         },
         "properties": {
          "Sensor": "Monash Rd-Swanston St (West)"
         },
         "type": "Feature"
        },
        {
         "geometry": {
          "coordinates": [
           -37.79682089,
           144.96450890000003
          ],
          "type": "Point"
         },
         "properties": {
          "Sensor": "Tin Alley-Swanston St (West)"
         },
         "type": "Feature"
        },
        {
         "geometry": {
          "coordinates": [
           -37.81442768,
           144.9661167
          ],
          "type": "Point"
         },
         "properties": {
          "Sensor": "Little Collins St-Swanston St (East)"
         },
         "type": "Feature"
        },
        {
         "geometry": {
          "coordinates": [
           -37.81634098,
           144.9669241
          ],
          "type": "Point"
         },
         "properties": {
          "Sensor": "Flinders La-Swanston St (West)"
         },
         "type": "Feature"
        },
        {
         "geometry": {
          "coordinates": [
           -37.80230453,
           144.9616265
          ],
          "type": "Point"
         },
         "properties": {
          "Sensor": "Pelham St (South)"
         },
         "type": "Feature"
        },
        {
         "geometry": {
          "coordinates": [
           -37.81142356,
           144.9619502
          ],
          "type": "Point"
         },
         "properties": {
          "Sensor": "Melbourne Central-Elizabeth St (East)"
         },
         "type": "Feature"
        },
        {
         "geometry": {
          "coordinates": [
           -37.80620279,
           144.9585479
          ],
          "type": "Point"
         },
         "properties": {
          "Sensor": "QVM-Queen St (East)"
         },
         "type": "Feature"
        },
        {
         "geometry": {
          "coordinates": [
           -37.80719447,
           144.9594763
          ],
          "type": "Point"
         },
         "properties": {
          "Sensor": "QVM-Therry St (South)"
         },
         "type": "Feature"
        },
        {
         "geometry": {
          "coordinates": [
           -37.79802328,
           144.9672885
          ],
          "type": "Point"
         },
         "properties": {
          "Sensor": "Faraday St-Lygon St (West)"
         },
         "type": "Feature"
        },
        {
         "geometry": {
          "coordinates": [
           -37.80851545,
           144.95890659999998
          ],
          "type": "Point"
         },
         "properties": {
          "Sensor": "QVM-Franklin St (North)"
         },
         "type": "Feature"
        },
        {
         "geometry": {
          "coordinates": [
           -37.81243529,
           144.9618872
          ],
          "type": "Point"
         },
         "properties": {
          "Sensor": "Elizabeth St-Lonsdale St (South)"
         },
         "type": "Feature"
        },
        {
         "geometry": {
          "coordinates": [
           -37.80407319,
           144.96326100000002
          ],
          "type": "Point"
         },
         "properties": {
          "Sensor": "Lincoln-Swanston (W)"
         },
         "type": "Feature"
        },
        {
         "geometry": {
          "coordinates": [
           -37.81018903,
           144.96138059999998
          ],
          "type": "Point"
         },
         "properties": {
          "Sensor": "Elizabeth St-La Trobe St (East)"
         },
         "type": "Feature"
        },
        {
         "geometry": {
          "coordinates": [
           -37.81241939,
           144.96148430000002
          ],
          "type": "Point"
         },
         "properties": {
          "Sensor": "Lonsdale St - Elizabeth St (North)"
         },
         "type": "Feature"
        },
        {
         "geometry": {
          "coordinates": [
           -37.81769633,
           144.9502168
          ],
          "type": "Point"
         },
         "properties": {
          "Sensor": "Bourke St Bridge"
         },
         "type": "Feature"
        },
        {
         "geometry": {
          "coordinates": [
           -37.81697785,
           144.95348080000002
          ],
          "type": "Point"
         },
         "properties": {
          "Sensor": "Bourke St - Spencer St (North)"
         },
         "type": "Feature"
        },
        {
         "geometry": {
          "coordinates": [
           -37.808025799999996,
           144.9629546
          ],
          "type": "Point"
         },
         "properties": {
          "Sensor": "RMIT Bld 80 - 445 Swanston Street"
         },
         "type": "Feature"
        },
        {
         "geometry": {
          "coordinates": [
           -37.81653111,
           144.96694530000002
          ],
          "type": "Point"
         },
         "properties": {
          "Sensor": "Flinders La-Swanston St (West) Temporary"
         },
         "type": "Feature"
        },
        {
         "geometry": {
          "coordinates": [
           -37.80737317,
           144.9632461
          ],
          "type": "Point"
         },
         "properties": {
          "Sensor": "RMIT Building 14"
         },
         "type": "Feature"
        },
        {
         "geometry": {
          "coordinates": [
           -37.80961321,
           144.9615709
          ],
          "type": "Point"
         },
         "properties": {
          "Sensor": "380 Elizabeth St"
         },
         "type": "Feature"
        },
        {
         "geometry": {
          "coordinates": [
           -37.81011379,
           144.9620237
          ],
          "type": "Point"
         },
         "properties": {
          "Sensor": "La Trobe St (North)"
         },
         "type": "Feature"
        },
        {
         "geometry": {
          "coordinates": [
           -37.81333975,
           144.9668472
          ],
          "type": "Point"
         },
         "properties": {
          "Sensor": "231 Bourke St"
         },
         "type": "Feature"
        },
        {
         "geometry": {
          "coordinates": [
           -37.79962918,
           144.9573212
          ],
          "type": "Point"
         },
         "properties": {
          "Sensor": "Royal Pde - Grattan St"
         },
         "type": "Feature"
        },
        {
         "geometry": {
          "coordinates": [
           -37.81551888,
           144.96659119999998
          ],
          "type": "Point"
         },
         "properties": {
          "Sensor": "Swanston St - City Square"
         },
         "type": "Feature"
        },
        {
         "geometry": {
          "coordinates": [
           -37.81058889,
           144.9643339
          ],
          "type": "Point"
         },
         "properties": {
          "Sensor": "State Library - New"
         },
         "type": "Feature"
        },
        {
         "geometry": {
          "coordinates": [
           -37.81690024,
           144.9655893
          ],
          "type": "Point"
         },
         "properties": {
          "Sensor": "Flinders Ln - Degraves St (South)"
         },
         "type": "Feature"
        },
        {
         "geometry": {
          "coordinates": [
           -37.8168425,
           144.96570590000002
          ],
          "type": "Point"
         },
         "properties": {
          "Sensor": "Flinders Ln - Degraves St (North)"
         },
         "type": "Feature"
        },
        {
         "geometry": {
          "coordinates": [
           -37.81685097,
           144.965651
          ],
          "type": "Point"
         },
         "properties": {
          "Sensor": "Flinders Ln - Degraves St (Crossing)"
         },
         "type": "Feature"
        },
        {
         "geometry": {
          "coordinates": [
           -37.80442398,
           144.94936769999998
          ],
          "type": "Point"
         },
         "properties": {
          "Sensor": "Errol Street (East)"
         },
         "type": "Feature"
        },
        {
         "geometry": {
          "coordinates": [
           -37.81232775,
           144.9713299
          ],
          "type": "Point"
         },
         "properties": {
          "Sensor": "Westwood Place"
         },
         "type": "Feature"
        },
        {
         "geometry": {
          "coordinates": [
           -37.81748768,
           144.96908190000002
          ],
          "type": "Point"
         },
         "properties": {
          "Sensor": "Flinders St - ACMI"
         },
         "type": "Feature"
        },
        {
         "geometry": {
          "coordinates": [
           -37.81685564,
           144.95406930000001
          ],
          "type": "Point"
         },
         "properties": {
          "Sensor": "Bourke St - Spencer St (South)"
         },
         "type": "Feature"
        },
        {
         "geometry": {
          "coordinates": [
           -37.8152105,
           144.97477719999998
          ],
          "type": "Point"
         },
         "properties": {
          "Sensor": "Spring St - Flinders St (West)"
         },
         "type": "Feature"
        },
        {
         "geometry": {
          "coordinates": [
           -37.79426811,
           144.9304927
          ],
          "type": "Point"
         },
         "properties": {
          "Sensor": "Macaulay Rd - Bellair St"
         },
         "type": "Feature"
        },
        {
         "geometry": {
          "coordinates": [
           -37.81428483,
           144.9442805
          ],
          "type": "Point"
         },
         "properties": {
          "Sensor": "Harbour Esplanade - Pedestrian Path"
         },
         "type": "Feature"
        },
        {
         "geometry": {
          "coordinates": [
           -37.81488338,
           144.944532
          ],
          "type": "Point"
         },
         "properties": {
          "Sensor": "Harbour Esplanade - Bike Path"
         },
         "type": "Feature"
        }
       ],
       "type": "FeatureCollection"
      }
     },
     "metadata": {},
     "output_type": "display_data"
    }
   ],
   "source": [
    "import IPython\n",
    "IPython.display.display({'C:/Users/aleja/OneDrive/Bootcamp/projects/project-2/csv files': geojson}, raw=True)"
   ]
  },
  {
   "cell_type": "code",
   "execution_count": null,
   "metadata": {},
   "outputs": [],
   "source": []
  }
 ],
 "metadata": {
  "kernelspec": {
   "display_name": "Python 3",
   "language": "python",
   "name": "python3"
  },
  "language_info": {
   "codemirror_mode": {
    "name": "ipython",
    "version": 3
   },
   "file_extension": ".py",
   "mimetype": "text/x-python",
   "name": "python",
   "nbconvert_exporter": "python",
   "pygments_lexer": "ipython3",
   "version": "3.8.5"
  }
 },
 "nbformat": 4,
 "nbformat_minor": 4
}
